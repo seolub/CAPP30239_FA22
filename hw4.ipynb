{
 "cells": [
  {
   "cell_type": "code",
   "execution_count": null,
   "metadata": {},
   "outputs": [],
   "source": [
    "import numpy as np"
   ]
  },
  {
   "cell_type": "code",
   "execution_count": null,
   "metadata": {},
   "outputs": [],
   "source": [
    "def gram_schmidt(matrix):\n",
    "    '''\n",
    "    Perform Gram-Schmidt orthogonalization\n",
    "    '''\n",
    "    n_cols = matrix.shape[1]\n",
    "    n_rows = matrix.shape[0]\n",
    "    \n",
    "    U_matrix = np.matrix([0.0]*n_rows*n_cols).reshape(n_rows, n_cols).astype(float)\n",
    "\n",
    "    for i in range(n_cols):\n",
    "        if i == 0:\n",
    "            U_i = matrix[:,i]/np.linalg.norm(matrix[:,i])\n",
    "\n",
    "        else:\n",
    "            sub = np.matrix([0.0]*n_rows).reshape(n_rows,1).astype(float)\n",
    "\n",
    "            for j in range(i):\n",
    "                sub -= U_matrix[:,j]@(U_matrix[:,j].T@matrix[:,i])\n",
    "            \n",
    "            Xj = matrix[:,i] + sub\n",
    "\n",
    "            U_i = Xj/np.linalg.norm(Xj)\n",
    "\n",
    "        U_matrix[:,i] = U_i\n",
    "    \n",
    "    return np.delete(U_matrix, np.where(~U_matrix.any(axis=1))[0], axis=1)\n",
    " \n",
    "\n",
    "\n",
    "\n"
   ]
  }
 ],
 "metadata": {
  "kernelspec": {
   "display_name": "Python 3",
   "language": "python",
   "name": "python3"
  },
  "language_info": {
   "name": "python",
   "version": "3.9.7 (tags/v3.9.7:1016ef3, Aug 30 2021, 20:19:38) [MSC v.1929 64 bit (AMD64)]"
  },
  "orig_nbformat": 4,
  "vscode": {
   "interpreter": {
    "hash": "a63e1f615196db66ca264332955e6a0bb5ae024218425d84f3a82744815494ae"
   }
  }
 },
 "nbformat": 4,
 "nbformat_minor": 2
}
